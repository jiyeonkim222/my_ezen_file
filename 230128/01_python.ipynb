{
 "cells": [
  {
   "cell_type": "code",
   "execution_count": 3,
   "metadata": {},
   "outputs": [
    {
     "name": "stdout",
     "output_type": "stream",
     "text": [
      "10\n",
      "<class 'int'>\n",
      "test\n",
      "<class 'str'>\n"
     ]
    }
   ],
   "source": [
    "# 변수 선언\n",
    "a=10\n",
    "b='test'\n",
    "\n",
    "#변수 출력\n",
    "print(a)\n",
    "print(type(a))\n",
    "\n",
    "print(b)\n",
    "print(type(b))"
   ]
  },
  {
   "cell_type": "code",
   "execution_count": 7,
   "metadata": {},
   "outputs": [
    {
     "name": "stdout",
     "output_type": "stream",
     "text": [
      "test22743792483237497\n",
      "testasdasdsda22743792483237497\n"
     ]
    }
   ],
   "source": [
    "a='test22743792483237497'\n",
    "print(a)\n",
    "\n",
    "b='testasdasdsda22743792483237497'\n",
    "print(b)"
   ]
  },
  {
   "cell_type": "code",
   "execution_count": 8,
   "metadata": {},
   "outputs": [
    {
     "name": "stdout",
     "output_type": "stream",
     "text": [
      "<class 'bool'>\n"
     ]
    }
   ],
   "source": [
    "## 불형 데이터 확인\n",
    "# 참 거짓 판별 \n",
    "a=True\n",
    "print(type(a))\n"
   ]
  },
  {
   "cell_type": "code",
   "execution_count": 10,
   "metadata": {},
   "outputs": [
    {
     "name": "stdout",
     "output_type": "stream",
     "text": [
      "True False True\n"
     ]
    }
   ],
   "source": [
    "b=(100>10)\n",
    "c=(100<10)\n",
    "d=(100==100)\n",
    "\n",
    "print(b ,c ,d ) "
   ]
  },
  {
   "cell_type": "code",
   "execution_count": 12,
   "metadata": {},
   "outputs": [
    {
     "name": "stdout",
     "output_type": "stream",
     "text": [
      "10 4 21 2.3333333333333335 2 1 343\n"
     ]
    }
   ],
   "source": [
    "## 산술 연산자 \n",
    "## 기본적인 사칙연산\n",
    "a=7\n",
    "b=3\n",
    "print(a+b,a-b,a*b,a/b,a//b,a%b,a**b)"
   ]
  },
  {
   "cell_type": "code",
   "execution_count": 13,
   "metadata": {},
   "outputs": [
    {
     "name": "stdout",
     "output_type": "stream",
     "text": [
      "13 20\n"
     ]
    }
   ],
   "source": [
    "c=2\n",
    "print(a+b*c,(a+b)*c)"
   ]
  },
  {
   "cell_type": "code",
   "execution_count": 16,
   "metadata": {},
   "outputs": [
    {
     "name": "stdout",
     "output_type": "stream",
     "text": [
      "22\n"
     ]
    }
   ],
   "source": [
    "##대입 연산자\n",
    "a+=5\n",
    "print(a)                                \n",
    "                        "
   ]
  },
  {
   "cell_type": "code",
   "execution_count": 22,
   "metadata": {},
   "outputs": [],
   "source": [
    "## 조건문 \n",
    "a=11\n",
    "if(a<11):\n",
    "    print(\"a는 10보다 작습니다.\")"
   ]
  },
  {
   "cell_type": "code",
   "execution_count": 27,
   "metadata": {},
   "outputs": [
    {
     "name": "stdout",
     "output_type": "stream",
     "text": [
      "a는 10보다 크거나 같다\n"
     ]
    }
   ],
   "source": [
    "##if~else\n",
    "a=20\n",
    "if(a<10):\n",
    "    print(\"a는 10보다 작다\")\n",
    "else:\n",
    "    print(\"a는 10보다 크거나 같다\")"
   ]
  },
  {
   "cell_type": "code",
   "execution_count": 30,
   "metadata": {},
   "outputs": [
    {
     "name": "stdout",
     "output_type": "stream",
     "text": [
      "85\n",
      "<class 'int'>\n",
      "B\n"
     ]
    }
   ],
   "source": [
    "## if~다중조건문\n",
    "score=int(input(\"점수를 입력하시오.\"))\n",
    "\n",
    "print(score)\n",
    "print(type(score))\n",
    "\n",
    "if score>=90:\n",
    "    print(\"A\")\n",
    "elif score>=80:\n",
    "    print(\"B\");\n",
    "elif score>=70:\n",
    "    print(\"C\")\n",
    "else :\n",
    "    print(\"F\")\n",
    "\n",
    "    print(\"프로그램 종료\") \n"
   ]
  },
  {
   "cell_type": "code",
   "execution_count": 29,
   "metadata": {},
   "outputs": [
    {
     "name": "stdout",
     "output_type": "stream",
     "text": [
      "0 번째 반복\n",
      "1 번째 반복\n",
      "2 번째 반복\n",
      "3 번째 반복\n",
      "4 번째 반복\n",
      "5 번째 반복\n",
      "6 번째 반복\n",
      "7 번째 반복\n",
      "8 번째 반복\n",
      "9 번째 반복\n"
     ]
    }
   ],
   "source": [
    "##반복문\n",
    "##for문\n",
    "\n",
    "for i in range(0,10,1):\n",
    "    print(\"%d 번째 반복\" %i)\n",
    "     "
   ]
  },
  {
   "cell_type": "code",
   "execution_count": 34,
   "metadata": {},
   "outputs": [
    {
     "ename": "IndentationError",
     "evalue": "unindent does not match any outer indentation level (<tokenize>, line 7)",
     "output_type": "error",
     "traceback": [
      "\u001b[1;36m  File \u001b[1;32m<tokenize>:7\u001b[1;36m\u001b[0m\n\u001b[1;33m    print(sum)\u001b[0m\n\u001b[1;37m    ^\u001b[0m\n\u001b[1;31mIndentationError\u001b[0m\u001b[1;31m:\u001b[0m unindent does not match any outer indentation level\n"
     ]
    }
   ],
   "source": [
    "## 1부터 10까지 합계 for문으로 구하기 \n",
    "##합계 변수 생성\n",
    "sum=0\n",
    "for a in range(1,10,1):\n",
    "    sum+=a \n",
    "    #sum=sum+a\n",
    "\n",
    "     \n",
    "     print(sum)"
   ]
  },
  {
   "cell_type": "code",
   "execution_count": 38,
   "metadata": {},
   "outputs": [
    {
     "name": "stdout",
     "output_type": "stream",
     "text": [
      "2 단\n",
      "2 x 1=2\n",
      "2 x 2=4\n",
      "2 x 3=6\n",
      "2 x 4=8\n",
      "2 x 5=10\n",
      "2 x 6=12\n",
      "2 x 7=14\n",
      "2 x 8=16\n",
      "2 x 9=18\n",
      "3 단\n",
      "3 x 1=3\n",
      "3 x 2=6\n",
      "3 x 3=9\n",
      "3 x 4=12\n",
      "3 x 5=15\n",
      "3 x 6=18\n",
      "3 x 7=21\n",
      "3 x 8=24\n",
      "3 x 9=27\n",
      "4 단\n",
      "4 x 1=4\n",
      "4 x 2=8\n",
      "4 x 3=12\n",
      "4 x 4=16\n",
      "4 x 5=20\n",
      "4 x 6=24\n",
      "4 x 7=28\n",
      "4 x 8=32\n",
      "4 x 9=36\n",
      "5 단\n",
      "5 x 1=5\n",
      "5 x 2=10\n",
      "5 x 3=15\n",
      "5 x 4=20\n",
      "5 x 5=25\n",
      "5 x 6=30\n",
      "5 x 7=35\n",
      "5 x 8=40\n",
      "5 x 9=45\n",
      "6 단\n",
      "6 x 1=6\n",
      "6 x 2=12\n",
      "6 x 3=18\n",
      "6 x 4=24\n",
      "6 x 5=30\n",
      "6 x 6=36\n",
      "6 x 7=42\n",
      "6 x 8=48\n",
      "6 x 9=54\n",
      "7 단\n",
      "7 x 1=7\n",
      "7 x 2=14\n",
      "7 x 3=21\n",
      "7 x 4=28\n",
      "7 x 5=35\n",
      "7 x 6=42\n",
      "7 x 7=49\n",
      "7 x 8=56\n",
      "7 x 9=63\n",
      "8 단\n",
      "8 x 1=8\n",
      "8 x 2=16\n",
      "8 x 3=24\n",
      "8 x 4=32\n",
      "8 x 5=40\n",
      "8 x 6=48\n",
      "8 x 7=56\n",
      "8 x 8=64\n",
      "8 x 9=72\n",
      "9 단\n",
      "9 x 1=9\n",
      "9 x 2=18\n",
      "9 x 3=27\n",
      "9 x 4=36\n",
      "9 x 5=45\n",
      "9 x 6=54\n",
      "9 x 7=63\n",
      "9 x 8=72\n",
      "9 x 9=81\n"
     ]
    }
   ],
   "source": [
    "##다중 for문 \n",
    "##구구단 \n",
    "for i in range(2,10,1):\n",
    "    print(\"%d 단\" %i)\n",
    "    for j in range(1,10,1):\n",
    "        print(\"%d x %d=%d\" %(i,j,i*j))"
   ]
  },
  {
   "cell_type": "code",
   "execution_count": 43,
   "metadata": {},
   "outputs": [
    {
     "name": "stdout",
     "output_type": "stream",
     "text": [
      "1 4\n",
      "2 3\n",
      "3 2\n",
      "4 1\n"
     ]
    }
   ],
   "source": [
    "## 2개의 주사위를 굴려서 두 주사위의 합이 5가 되는 주사위의 값\n",
    "sum=0\n",
    "for i in range(1,7,1):\n",
    "    for j in range(1,7,1):\n",
    "        sum=i+j\n",
    "        if sum==5 :\n",
    "            print(\"%d %d\" %(i,j))"
   ]
  },
  {
   "cell_type": "code",
   "execution_count": 42,
   "metadata": {},
   "outputs": [
    {
     "name": "stdout",
     "output_type": "stream",
     "text": [
      "2550\n"
     ]
    }
   ],
   "source": [
    "#for문 1부터 100까지의 숫자중에 짝수의 합계\n",
    "sum=0\n",
    "for i in range (1,101,1):#range(2,101,2)2씩 증가도 가능 \n",
    "    if i%2==0:\n",
    "        sum+=i\n",
    "\n",
    "print(sum)        \n"
   ]
  },
  {
   "cell_type": "code",
   "execution_count": 44,
   "metadata": {},
   "outputs": [
    {
     "name": "stdout",
     "output_type": "stream",
     "text": [
      "0\n",
      "1\n",
      "2\n",
      "3\n",
      "4\n",
      "5\n",
      "6\n",
      "7\n",
      "8\n",
      "9\n"
     ]
    }
   ],
   "source": [
    "##while \n",
    "##초기값을 설정\n",
    "i=0\n",
    "##while문 시작\n",
    "while i<10:\n",
    "    print(i)\n",
    "    i=i+1"
   ]
  },
  {
   "cell_type": "code",
   "execution_count": 45,
   "metadata": {},
   "outputs": [
    {
     "name": "stdout",
     "output_type": "stream",
     "text": [
      "1 번째 반복\n",
      "2 번째 반복\n",
      "3 번째 반복\n",
      "4 번째 반복\n",
      "5 번째 반복\n"
     ]
    }
   ],
   "source": [
    "##break문 \n",
    "for i in range(1,101,1):\n",
    "    print(\"%d 번째 반복\" %i)\n",
    "    if(i==5):\n",
    "        break"
   ]
  },
  {
   "cell_type": "code",
   "execution_count": 46,
   "metadata": {},
   "outputs": [
    {
     "name": "stdout",
     "output_type": "stream",
     "text": [
      "합계가 500 이상이 되는 범위의 숫자 32 합계는 528\n"
     ]
    }
   ],
   "source": [
    "##1부터 100까지 합계를 구하는 수 합계가 500이 넘어가는 숫자와 합계의 값 \n",
    "sum=0\n",
    "for i in range(1,101,1):\n",
    "    sum+=i\n",
    "    if(sum>100):\n",
    "     break\n",
    "print('합계가 500 이상이 되는 범위의 숫자',i,'합계는',sum)\n",
    "\n",
    "\n",
    " \n"
   ]
  },
  {
   "cell_type": "code",
   "execution_count": 54,
   "metadata": {},
   "outputs": [
    {
     "name": "stdout",
     "output_type": "stream",
     "text": [
      "합계가 500 이상이 되는 범위의 숫자 15 합계는 105\n"
     ]
    }
   ],
   "source": [
    "i=1#while문으로 사용 \n",
    "sum=0\n",
    "while sum<100:\n",
    "    sum+=i\n",
    "    if sum>=500:\n",
    "        break\n",
    "    i=i+1\n",
    "print('합계가 500 이상이 되는 범위의 숫자',i,'합계는',sum)"
   ]
  },
  {
   "cell_type": "code",
   "execution_count": 55,
   "metadata": {},
   "outputs": [
    {
     "name": "stdout",
     "output_type": "stream",
     "text": [
      "4 번째 반복\n",
      "5 번째 반복\n",
      "6 번째 반복\n",
      "7 번째 반복\n",
      "8 번째 반복\n",
      "9 번째 반복\n"
     ]
    }
   ],
   "source": [
    "##continue\n",
    "##반복문으로 돌아간다\n",
    "\n",
    "for i in range(1,10,1):\n",
    "    if i<=3:\n",
    "        continue\n",
    "    print(\"%d 번째 반복\" %i)\n",
    "\n",
    "    #for i in range(1,10,1):\n",
    "    #if i<=3:\n",
    "     #   continue\n",
    "    #print(i,'번째 반복')\n"
   ]
  },
  {
   "cell_type": "code",
   "execution_count": 59,
   "metadata": {},
   "outputs": [
    {
     "name": "stdout",
     "output_type": "stream",
     "text": [
      "2655\n"
     ]
    }
   ],
   "source": [
    "## 1부터 100까지 합계 중 짝수의 합계\n",
    "for i in range(1,101,1):\n",
    "    if(i%2==1):\n",
    "        continue\n",
    "    else:\n",
    "        sum+=i\n",
    "print(sum)"
   ]
  },
  {
   "cell_type": "code",
   "execution_count": 61,
   "metadata": {},
   "outputs": [
    {
     "name": "stdout",
     "output_type": "stream",
     "text": [
      "(1, 'hello') (3, 3.14) (1, 'hello', 3, 3.14) (1, 'hello', 1, 'hello', 1, 'hello') hello\n"
     ]
    }
   ],
   "source": [
    "#함수는 사용안해도 상관은 없음. \n",
    "## 튜플의 형태 \n",
    "\n",
    "a=(1,'hello')\n",
    "b=(3,3.14)\n",
    "c=a+b#원소가 4개인 튜플이 만들어짐.\n",
    "d=a*3#a의 원소가 3배\n",
    "e=a[1]\n",
    "\n",
    "print(a,b,c,d,e)\n"
   ]
  },
  {
   "cell_type": "code",
   "execution_count": 62,
   "metadata": {},
   "outputs": [
    {
     "name": "stdout",
     "output_type": "stream",
     "text": [
      "1\n"
     ]
    }
   ],
   "source": [
    "##숫자 1만 출력하고 싶으면 \n",
    "print(a[0])"
   ]
  },
  {
   "cell_type": "code",
   "execution_count": 64,
   "metadata": {},
   "outputs": [
    {
     "name": "stdout",
     "output_type": "stream",
     "text": [
      "(20, 30)\n",
      "(30, 40)\n"
     ]
    }
   ],
   "source": [
    "a=(10,20,30,40)\n",
    "print(a[1:3]) #20,30\n",
    "print(a[2:])  #30 40 많이 사용하는 애"
   ]
  },
  {
   "cell_type": "code",
   "execution_count": 67,
   "metadata": {},
   "outputs": [
    {
     "name": "stdout",
     "output_type": "stream",
     "text": [
      "[5, 10, 20, 50] [40, 30, 20, 10] ['가나', '사람', '오리']\n"
     ]
    }
   ],
   "source": [
    "a=[20,10,50,5]\n",
    "b=[10,20,30,40] \n",
    "c=['오리','사람','가나']\n",
    "#sort함수 오름차순 정렬 \n",
    "#reverse 역순 정렬\n",
    "a.sort()\n",
    "b.reverse()\n",
    "c.reverse()\n",
    "\n",
    "print(a,b,c)"
   ]
  },
  {
   "cell_type": "code",
   "execution_count": 68,
   "metadata": {},
   "outputs": [
    {
     "name": "stdout",
     "output_type": "stream",
     "text": [
      "[5, 10, 20, 50, 22]\n"
     ]
    }
   ],
   "source": [
    "## apend() 리스트의 마지막에 항목 추가\n",
    "a.append(22)\n",
    "print(a)"
   ]
  },
  {
   "cell_type": "code",
   "execution_count": 73,
   "metadata": {},
   "outputs": [
    {
     "name": "stdout",
     "output_type": "stream",
     "text": [
      "[10]\n"
     ]
    }
   ],
   "source": [
    "## 리스트의 특징 \n",
    "a=[]#원소의 개수가 없음 \n",
    "a.append(10)#하나만추가가능\n",
    "print(a)"
   ]
  },
  {
   "cell_type": "code",
   "execution_count": 87,
   "metadata": {},
   "outputs": [
    {
     "name": "stdout",
     "output_type": "stream",
     "text": [
      "[18, 36, 54]\n"
     ]
    }
   ],
   "source": [
    "##1부터 70까지의 숫자들 중에 3의 배수를 리스트를 만들어서 출력\n",
    "list=[]\n",
    "for i in range (1,71,1):\n",
    "    if i %18==0:\n",
    "        list.append(i)\n",
    "print(list)\n"
   ]
  },
  {
   "cell_type": "code",
   "execution_count": 88,
   "metadata": {},
   "outputs": [
    {
     "name": "stdout",
     "output_type": "stream",
     "text": [
      "108\n"
     ]
    }
   ],
   "source": [
    "sum=0\n",
    "for i in list:\n",
    "    sum+=i\n",
    "print(sum)\n",
    "    "
   ]
  },
  {
   "cell_type": "code",
   "execution_count": 92,
   "metadata": {},
   "outputs": [
    {
     "name": "stdout",
     "output_type": "stream",
     "text": [
      "test\n",
      "{'name': 'test', 'age': 20, 'phone': '01012345678', 'area': 'seoul'}\n"
     ]
    }
   ],
   "source": [
    "##딕셔너리 형태\n",
    "##사전형 데이터\n",
    "##{key1:value1,key2:value2..}\n",
    "\n",
    "dic={\n",
    "    \"name\":\"test\",\"age\":20,\"phone\":\"01012345678\"#0사라지지않게 하기위해 문자열로 받음\n",
    "}\n",
    "\n",
    "print(dic[\"name\"])\n",
    "dic[\"area\"]=\"seoul\"#새로운 데이터 추가 \n",
    "\n",
    "print(dic)"
   ]
  },
  {
   "cell_type": "code",
   "execution_count": 103,
   "metadata": {},
   "outputs": [
    {
     "name": "stdout",
     "output_type": "stream",
     "text": [
      "t\n"
     ]
    }
   ],
   "source": [
    "##  database 정보가 모여져있는 공간ex)Excel data는 딕셔너리 형태로 받아옴\n",
    "# #데이터를 받아올 때 데이터의 형태 : [{},{},{}] 리스트 안의 딕셔너리 형태로 받아옴\n",
    "# \n",
    "data=[\n",
    "    {\"name\":\"test1\",\"age\":20,},{\"name\":\"test2\",\"age\":30},{\"name\":\"test3\",\"age\":30}\n",
    "] \n",
    "\n",
    "print(data[0][\"name\"][0])#대괄호를 먼저 없애고 중괄호를 없애면됨 data[0]출력시 딕셔너리 형태로 출력 "
   ]
  },
  {
   "cell_type": "code",
   "execution_count": 105,
   "metadata": {},
   "outputs": [
    {
     "name": "stdout",
     "output_type": "stream",
     "text": [
      "['test1', 'test2', 'test3']\n"
     ]
    }
   ],
   "source": [
    "#data에서 name의 값들만 리스트 형태로 출력하려면 어떻게? \n",
    "\n",
    "name=[]\n",
    "\n",
    "for i in data:\n",
    "    name.append(i[\"name\"])#data[i]를 하면 data 안의 딕셔너리를 가져오므로 그냥 i만 해온다. 1차원으로 바로 접근하는거 \n",
    "print(name)"
   ]
  },
  {
   "cell_type": "code",
   "execution_count": 107,
   "metadata": {},
   "outputs": [
    {
     "name": "stdout",
     "output_type": "stream",
     "text": [
      "HELLO WORLD\n",
      "hello world\n"
     ]
    }
   ],
   "source": [
    "##문자열 내장 함수\n",
    "##대문자로 변환, 소문자로 변환  upper(),lower()\n",
    "text=\"hello world\"\n",
    "print(text.upper())\n",
    "print(text.lower())"
   ]
  },
  {
   "cell_type": "code",
   "execution_count": 112,
   "metadata": {},
   "outputs": [
    {
     "name": "stdout",
     "output_type": "stream",
     "text": [
      "hello world   \n",
      "   hello world\n",
      "hello world\n",
      "helloworld\n",
      "   hiworld   \n"
     ]
    }
   ],
   "source": [
    "#공백 제거 함수\n",
    "#  strip() : 양쪽의 공백을 제거 lstrip(): 왼쪽의 공백을 제거 rstrip():오른쪽 공백을 제거 \n",
    "# replace(): 선택한 문자열을 변경해주는 작업 or 공백을 제거하는데 사용 \n",
    "text=\"   hello world   \"\n",
    "print(text.lstrip())\n",
    "print(text.rstrip())\n",
    "print(text.strip())\n",
    "print(text.replace(\" \",\"\"))\n",
    "print(text.replace(\"hello \",\"hi\"))"
   ]
  },
  {
   "cell_type": "code",
   "execution_count": 116,
   "metadata": {},
   "outputs": [
    {
     "name": "stdout",
     "output_type": "stream",
     "text": [
      "a,b,c,d,e\n"
     ]
    },
    {
     "data": {
      "text/plain": [
       "['a,b,c,d,e']"
      ]
     },
     "execution_count": 116,
     "metadata": {},
     "output_type": "execute_result"
    }
   ],
   "source": [
    "##split() 기준이 되는 문자열이나 , . / 와 같은 특수문자열을 기준으로 문자열을 나눠주는 역할을 한다. \n",
    "a=\"a,b,c,d,e\"\n",
    "print(a)\n",
    "a.split(\"ab,\")"
   ]
  },
  {
   "cell_type": "code",
   "execution_count": 119,
   "metadata": {},
   "outputs": [
    {
     "name": "stdout",
     "output_type": "stream",
     "text": [
      "안녕하세요\n",
      "안녕하세요\n",
      "안녕하세요\n"
     ]
    }
   ],
   "source": [
    "## 함수 만들기 \n",
    "def func1():\n",
    "    return \"안녕하세요\"\n",
    "\n",
    "print(func1())#매개변수가 없으면 빈 괄호로 \n",
    "print(func1())\n",
    "print(func1())"
   ]
  },
  {
   "cell_type": "code",
   "execution_count": 131,
   "metadata": {},
   "outputs": [
    {
     "name": "stdout",
     "output_type": "stream",
     "text": [
      "8\n"
     ]
    }
   ],
   "source": [
    "## 매개변수가 존재하는 함수 생성\n",
    "def func2(x,y):\n",
    "     result=x+y\n",
    "     return result\n",
    "    \n",
    "print(func2(3,5))\n"
   ]
  },
  {
   "cell_type": "code",
   "execution_count": 133,
   "metadata": {},
   "outputs": [
    {
     "name": "stdout",
     "output_type": "stream",
     "text": [
      "6\n",
      "6\n"
     ]
    }
   ],
   "source": [
    "## 매개변수의 기본값을 정의 \n",
    "def func3(x,y=3): #기본 값은 뒤의 인자부터 채워감. x=3(x)\n",
    "    result=x+y  \n",
    "    return result  \n",
    "\n",
    "print(func3(5,1))\n",
    "print(func3(3))#x의 값에만 값을 넣어줌 y의 값을 고정하고 싶을 때 "
   ]
  },
  {
   "cell_type": "code",
   "execution_count": 136,
   "metadata": {},
   "outputs": [
    {
     "name": "stdout",
     "output_type": "stream",
     "text": [
      "25\n",
      "32\n"
     ]
    }
   ],
   "source": [
    "def func4(x,y):\n",
    "    result=x**y\n",
    "    return result\n",
    "\n",
    "print(func4(5,2))\n",
    "print(func4(y=5,x=2)) #매개변수의 값을 직접 지정 라이브러리 불러올때 유용 "
   ]
  },
  {
   "cell_type": "code",
   "execution_count": 158,
   "metadata": {},
   "outputs": [
    {
     "name": "stdout",
     "output_type": "stream",
     "text": [
      "0\n"
     ]
    }
   ],
   "source": [
    "#함수 하나 생성, 매개변수는 2개 생성 \n",
    "#함수가 하는 행동 (a부터 b까지의 합 리턴 \n",
    "# x보다 y가 작은 경우에는 x부터 y의 까지의 합, 반대인 경우 y부터 x까지 합 \n",
    "\n",
    "def func5(x,y):\n",
    "    sum=0\n",
    "    if x<y :\n",
    "         for i in range(x,y+1,1):\n",
    "            sum+=i\n",
    "    elif y>x :\n",
    "        for i in range(y,x,-1):\n",
    "             sum+=i\n",
    "\n",
    "     \n",
    "    return sum #return 은 한 번 하면 끝 \n",
    "\n",
    "\n",
    "\n",
    "print(func5(10,5))\n",
    "\n",
    "\n",
    "\n",
    "\n",
    "a=10"
   ]
  },
  {
   "cell_type": "code",
   "execution_count": 157,
   "metadata": {},
   "outputs": [
    {
     "name": "stdout",
     "output_type": "stream",
     "text": [
      "42\n"
     ]
    }
   ],
   "source": [
    "def func6(x,y):\n",
    "    sum=0\n",
    "    while(y<x):\n",
    "        sum+=x\n",
    "        x+=1\n",
    "    return sum\n",
    "print(func6(,10))"
   ]
  },
  {
   "cell_type": "code",
   "execution_count": 169,
   "metadata": {},
   "outputs": [
    {
     "name": "stdout",
     "output_type": "stream",
     "text": [
      "None\n",
      "None\n"
     ]
    }
   ],
   "source": [
    "def func7(x,y):\n",
    "    sum=0\n",
    "    ## x가 y보다 작은 경우\n",
    "    if x<y:\n",
    "\n",
    "        for i in range(x,y+1,1):\n",
    "            sum+=i\n",
    "        else :\n",
    "            for i in range (y,x+1,1):\n",
    "                sum+=i\n",
    "c,,zxczx,cc,asczxc.,mmmmmmmmmmmmmmmmmmmmmmmmmmmmmmmmmmmmmmmmmmmmmmmmmmmmmmmmmmmmmmmmmmmmmmmmmmmmmmmmmmmmmmmmmmm return sum\n",
    "\n",
    "print(func7(1,10))\n",
    "print(func7(10,1))\n",
    "        "
   ]
  },
  {
   "cell_type": "code",
   "execution_count": 164,
   "metadata": {},
   "outputs": [
    {
     "name": "stdout",
     "output_type": "stream",
     "text": [
      "55\n",
      "55\n"
     ]
    }
   ],
   "source": [
    "def func8(x,y):\n",
    "    sum=0\n",
    "    for i in range(min(x,y),max(x,y)+1,1):\n",
    "        sum+=i\n",
    "    return sum\n",
    "\n",
    "print(func8(1,10))\n",
    "print(func8(10,1))"
   ]
  },
  {
   "cell_type": "code",
   "execution_count": 176,
   "metadata": {},
   "outputs": [
    {
     "name": "stdout",
     "output_type": "stream",
     "text": [
      "85\n"
     ]
    }
   ],
   "source": [
    "#함수 생성 매개 변수 3개 \n",
    "#z값이 합이라고 하는 문자열이면 x+리턴 z값 차면 x-y\n",
    "\n",
    "def func9(x,y,z):\n",
    "    if z==\"합\":\n",
    "        return x+y#return 은 한 번만 가능하므로 if return if return 으로 해줘도 된다. 첫번째 if가 아니면 두번째 if로 넘어감\n",
    "    elif z=='차':\n",
    "        return x-y\n",
    "    else:\n",
    "        return print(\"연산식이 잘못되었습니다.\")\n",
    "\n",
    "#print(func9(5,8,\"합\"))\n",
    "#print(func9(5,8,\"차\"))\n",
    "#print(func9(5,8,\"곱\"))\n",
    "\n",
    "x=input(\"x,y,z값을 입력하시오\")\n",
    "y=input(\"x,y,z값을 입력하시오\")\n",
    "z=input(\"x,y,z값을 입력하시오\")\n",
    "print(func9(x,y,z))"
   ]
  },
  {
   "cell_type": "code",
   "execution_count": null,
   "metadata": {},
   "outputs": [],
   "source": [
    "def func10(x,y,z):\n",
    "    if z==\"합\":\n",
    "        return x+y\n",
    "        return x-y\n",
    "    else:\n",
    "        return print(\"연산식이 잘못되었습니다.\")\n",
    "\n",
    "print(func10(5,8,\"합\"))\n",
    "print(func10(5,8,\"차\"))\n",
    "print(func10(5,8,\"곱\"))\n"
   ]
  },
  {
   "cell_type": "code",
   "execution_count": 180,
   "metadata": {},
   "outputs": [
    {
     "name": "stdout",
     "output_type": "stream",
     "text": [
      "[1, 4, 9, 16]\n"
     ]
    }
   ],
   "source": [
    "##map 함수 list에 있는 값을 함수에 하나하나 넣어서 확인하고 싶을 때\n",
    "def func11(x):\n",
    "    result=x**2\n",
    "    return result\n",
    "\n",
    "l=[1,2,3,4]\n",
    "result=[]\n",
    "\n",
    "for i in l:\n",
    "    result.append(func11(i))\n",
    "\n",
    "print(result) ##이걸 map 함수로 만들어버림 "
   ]
  },
  {
   "cell_type": "code",
   "execution_count": 182,
   "metadata": {},
   "outputs": [
    {
     "ename": "TypeError",
     "evalue": "'list' object is not callable",
     "output_type": "error",
     "traceback": [
      "\u001b[1;31m---------------------------------------------------------------------------\u001b[0m",
      "\u001b[1;31mTypeError\u001b[0m                                 Traceback (most recent call last)",
      "Cell \u001b[1;32mIn[182], line 2\u001b[0m\n\u001b[0;32m      1\u001b[0m \u001b[39m##map 함수\u001b[39;00m\n\u001b[1;32m----> 2\u001b[0m result2\u001b[39m=\u001b[39m\u001b[39mlist\u001b[39;49m(\u001b[39mmap\u001b[39;49m(func11,l)) \u001b[39m##map함수를 list형태로 바꿔서 반환\u001b[39;00m\n\u001b[0;32m      3\u001b[0m \u001b[39mprint\u001b[39m(result2)\n",
      "\u001b[1;31mTypeError\u001b[0m: 'list' object is not callable"
     ]
    }
   ],
   "source": [
    "##map 함수\n",
    "result2=li(map(func11,l)) ##map함수를 list형태로 바꿔서 반환\n",
    "print(result2)"
   ]
  },
  {
   "cell_type": "code",
   "execution_count": 183,
   "metadata": {},
   "outputs": [
    {
     "name": "stdout",
     "output_type": "stream",
     "text": [
      "16\n"
     ]
    }
   ],
   "source": [
    "##람다 함수 \n",
    "lamb=lambda x:x**2\n",
    "print(lamb(4))"
   ]
  },
  {
   "cell_type": "code",
   "execution_count": 184,
   "metadata": {},
   "outputs": [
    {
     "ename": "TypeError",
     "evalue": "'list' object is not callable",
     "output_type": "error",
     "traceback": [
      "\u001b[1;31m---------------------------------------------------------------------------\u001b[0m",
      "\u001b[1;31mTypeError\u001b[0m                                 Traceback (most recent call last)",
      "Cell \u001b[1;32mIn[184], line 1\u001b[0m\n\u001b[1;32m----> 1\u001b[0m \u001b[39mlist\u001b[39;49m(\u001b[39mmap\u001b[39;49m(lamb,l))\n",
      "\u001b[1;31mTypeError\u001b[0m: 'list' object is not callable"
     ]
    }
   ],
   "source": [
    "list(map(lamb,l))"
   ]
  },
  {
   "cell_type": "code",
   "execution_count": null,
   "metadata": {},
   "outputs": [],
   "source": []
  }
 ],
 "metadata": {
  "kernelspec": {
   "display_name": "Python 3",
   "language": "python",
   "name": "python3"
  },
  "language_info": {
   "codemirror_mode": {
    "name": "ipython",
    "version": 3
   },
   "file_extension": ".py",
   "mimetype": "text/x-python",
   "name": "python",
   "nbconvert_exporter": "python",
   "pygments_lexer": "ipython3",
   "version": "3.11.1"
  },
  "orig_nbformat": 4,
  "vscode": {
   "interpreter": {
    "hash": "d83fa9b78f6d32ae369e3b25d0bdfb8546935a326f61d3bc2625644343d73d1f"
   }
  }
 },
 "nbformat": 4,
 "nbformat_minor": 2
}
